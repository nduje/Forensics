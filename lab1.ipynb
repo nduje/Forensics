{
 "cells": [
  {
   "cell_type": "code",
   "execution_count": 1,
   "metadata": {},
   "outputs": [
    {
     "name": "stdout",
     "output_type": "stream",
     "text": [
      "File downloaded successfully.\n"
     ]
    }
   ],
   "source": [
    "import requests\n",
    "def download_file_with_custom_headers(url, local_filename):\n",
    "    headers = {\n",
    "        'User-Agent': 'Mozilla/5.0 (Windows NT 10.0; Win64; x64) AppleWebKit/537.36 (KHTML, like Gecko) Chrome/58.0.3029.110 Safari/537.3'\n",
    "    }\n",
    "    \n",
    "    with requests.get(url, headers=headers, stream=True) as r:\n",
    "        r.raise_for_status()  # This will throw an exception for non-200 responses\n",
    "        with open(local_filename, 'wb') as f:\n",
    "            for chunk in r.iter_content(chunk_size=8192): \n",
    "                f.write(chunk)\n",
    "    print(\"File downloaded successfully.\")\n",
    "\n",
    "\n",
    "# Example usage\n",
    "file_url = 'https://fesb-my.sharepoint.com/:u:/g/personal/toperkov_fesb_hr/ERP3tpm9FRRIkk82lCHbQpIBGu-9efbxohQv6dZ6g2B2AQ?download=1'\n",
    "output_dir = './imageFESB.001'\n",
    "download_file_with_custom_headers(file_url, output_dir)"
   ]
  },
  {
   "cell_type": "code",
   "execution_count": 2,
   "metadata": {},
   "outputs": [
    {
     "name": "stdout",
     "output_type": "stream",
     "text": [
      "Bitstream image verified successfully.\n"
     ]
    },
    {
     "data": {
      "text/plain": [
       "True"
      ]
     },
     "execution_count": 2,
     "metadata": {},
     "output_type": "execute_result"
    }
   ],
   "source": [
    "import hashlib\n",
    "\n",
    "def verify_image_hash(image_path, given_hash):\n",
    "    \"\"\"\n",
    "    Verifies the integrity of an image file by comparing its SHA-1 hash against a given hash.\n",
    "\n",
    "    Parameters:\n",
    "    - image_path (str): The file path to the image whose integrity is being verified.\n",
    "    - given_hash (str): The expected SHA-1 hash value for the image file.\n",
    "\n",
    "    Returns:\n",
    "    - bool: True if the image's SHA-1 hash matches the given hash, False otherwise.\n",
    "    \"\"\"\n",
    "    try:\n",
    "        # Compute the SHA-1 hash of the image file\n",
    "        with open(image_path, 'rb') as f:\n",
    "            computed_hash = hashlib.sha1(f.read()).hexdigest()\n",
    "\n",
    "        # Compare the computed hash with the given hash\n",
    "        if computed_hash == given_hash:\n",
    "            print('Bitstream image verified successfully.')\n",
    "            return True\n",
    "        else:\n",
    "            print('Error: Bitstream image verification failed.')\n",
    "            return False\n",
    "    except IOError as e:\n",
    "        print(f\"Error opening file: {e}\")\n",
    "        return False\n",
    "    except Exception as e:\n",
    "        print(f\"An unexpected error occurred: {e}\")\n",
    "        return False\n",
    "\n",
    "# Example usage\n",
    "image_path = 'imageFESB.001'\n",
    "given_hash = \"201cdee056cfc8c0996328e3c2115b513a141f5c\"\n",
    "verify_image_hash(image_path, given_hash)"
   ]
  },
  {
   "cell_type": "code",
   "execution_count": 3,
   "metadata": {},
   "outputs": [
    {
     "name": "stdout",
     "output_type": "stream",
     "text": [
      "File downloaded successfully.\n",
      "Directory 'john-1.9.0-jumbo-1-win64' created or already exists.\n"
     ]
    }
   ],
   "source": [
    "from pyunpack import Archive\n",
    "import os\n",
    "\n",
    "# Example usage\n",
    "file_url = 'https://fesb-my.sharepoint.com/:u:/g/personal/toperkov_fesb_hr/EYTWFYb1RkBDkUrBcTfucmcB9TJEFSjTEeiwfVcsCIV63g?download=1'\n",
    "output_dir = 'john-1.9.0-jumbo-1-win64.zip'\n",
    "download_file_with_custom_headers(file_url, output_dir)\n",
    "\n",
    "def create_directory(directory_path):\n",
    "    try:\n",
    "        os.makedirs(directory_path, exist_ok=True)\n",
    "        print(f\"Directory '{directory_path}' created or already exists.\")\n",
    "    except Exception as e:\n",
    "        print(f\"Failed to create directory '{directory_path}': {e}\")\n",
    "\n",
    "# Example usage\n",
    "directory_path = 'john-1.9.0-jumbo-1-win64'\n",
    "create_directory(directory_path)\n",
    "\n",
    "Archive('john-1.9.0-jumbo-1-win64.zip').extractall(\"john-1.9.0-jumbo-1-win64\")"
   ]
  },
  {
   "cell_type": "code",
   "execution_count": 2,
   "metadata": {},
   "outputs": [
    {
     "name": "stdout",
     "output_type": "stream",
     "text": [
      "BitLocker recovery key: $bitlocker$1$16$f64d2073dea16d4bf96c9e4622f4b08e$1048576$12$402ff33f651ad70103000000$60$265c4b1591ba8b3c7e8f6401657479ba7cc05caba44cdfe1d25a10c0099617698226aa2f9ca826fb074ce7ad9738be9bbc95a6b516527d2632af7d6f\n"
     ]
    }
   ],
   "source": [
    "import socket\n",
    "import subprocess\n",
    "\n",
    "# Set the path to the USB image file\n",
    "image_path = 'imageFESB.001'\n",
    "\n",
    "# Call bitlocker2john to extract the recovery key\n",
    "bitlocker2john_cmd = f'C:\\\\Users\\\\PC\\\\RF\\\\duje_nikolic_malora\\\\LAB1\\\\env\\\\john-1.9.0-jumbo-1-win64\\\\john-1.9.0-jumbo-1-win64\\\\run\\\\bitlocker2john.exe -i {image_path}'\n",
    "process = subprocess.Popen(bitlocker2john_cmd, stdout=subprocess.PIPE, stderr=subprocess.PIPE, shell=True)\n",
    "output, error = process.communicate()\n",
    "\n",
    "# Print the extracted recovery key\n",
    "keys = output.decode().strip().split('\\n')\n",
    "recovery_key = [s for s in keys if \"$bitlocker$1$\" in s]\n",
    "print(f'BitLocker recovery key: {recovery_key[0]}')"
   ]
  },
  {
   "cell_type": "code",
   "execution_count": 4,
   "metadata": {},
   "outputs": [
    {
     "name": "stdout",
     "output_type": "stream",
     "text": [
      "Password: hashcat (v6.2.6) starting\n",
      "\n",
      "OpenCL API (OpenCL 3.0 ) - Platform #1 [Intel(R) Corporation]\n",
      "=============================================================\n",
      "* Device #1: Intel(R) UHD Graphics, 1536/3150 MB (787 MB allocatable), 96MCU\n",
      "\n",
      "Minimum password length supported by kernel: 4\n",
      "Maximum password length supported by kernel: 256\n",
      "\n",
      "Sorting hashes. Please be patient...Sorted hashesRemoving duplicate hashes. Please be patient...Removed duplicate hashesSorting salts. Please be patient...Sorted saltsComparing hashes with potfile entries. Please be patient...Compared hashes with potfile entriesINFO: All hashes found as potfile and/or empty entries! Use --show to display them.\n",
      "\n",
      "Started: Mon Mar 11 09:52:31 2024\n",
      "Stopped: Mon Mar 11 09:52:33 2024\n",
      "\n"
     ]
    }
   ],
   "source": [
    "hashcat_cmd = f'hashcat -m 22100 -a 3 {recovery_key[0]} \"218546?d?d\"'\n",
    "process = subprocess.call(hashcat_cmd, shell=True)\n",
    "\n",
    "cracked_password = subprocess.check_output(hashcat_cmd, shell=True).decode()\n",
    "# cracked_password = cracked_password.split(':')[-1]\n",
    "print(f\"Password: {cracked_password}\")"
   ]
  },
  {
   "cell_type": "code",
   "execution_count": null,
   "metadata": {},
   "outputs": [],
   "source": []
  }
 ],
 "metadata": {
  "kernelspec": {
   "display_name": "env",
   "language": "python",
   "name": "python3"
  },
  "language_info": {
   "codemirror_mode": {
    "name": "ipython",
    "version": 3
   },
   "file_extension": ".py",
   "mimetype": "text/x-python",
   "name": "python",
   "nbconvert_exporter": "python",
   "pygments_lexer": "ipython3",
   "version": "3.12.2"
  }
 },
 "nbformat": 4,
 "nbformat_minor": 2
}
